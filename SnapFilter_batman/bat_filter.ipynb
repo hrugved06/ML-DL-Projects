{
  "nbformat": 4,
  "nbformat_minor": 0,
  "metadata": {
    "colab": {
      "name": "bat_filter.ipynb",
      "provenance": [],
      "collapsed_sections": []
    },
    "kernelspec": {
      "name": "python3",
      "display_name": "Python 3"
    },
    "language_info": {
      "name": "python"
    }
  },
  "cells": [
    {
      "cell_type": "code",
      "metadata": {
        "colab": {
          "base_uri": "https://localhost:8080/"
        },
        "id": "NWye1rwb4XrG",
        "outputId": "0f5cbb69-5036-46e7-9abc-2077633a8c12"
      },
      "source": [
        "#mounting the drive\n",
        "from google.colab import drive\n",
        "drive.mount('/content/drive/')"
      ],
      "execution_count": 1,
      "outputs": [
        {
          "output_type": "stream",
          "text": [
            "Drive already mounted at /content/drive/; to attempt to forcibly remount, call drive.mount(\"/content/drive/\", force_remount=True).\n"
          ],
          "name": "stdout"
        }
      ]
    },
    {
      "cell_type": "code",
      "metadata": {
        "id": "6KzjaY-M4k99"
      },
      "source": [
        "import os\n",
        "os.chdir(\"/content/drive/My Drive/Colab Notebooks/FDmodels\")"
      ],
      "execution_count": 2,
      "outputs": []
    },
    {
      "cell_type": "code",
      "metadata": {
        "colab": {
          "base_uri": "https://localhost:8080/"
        },
        "id": "1-vO0Rr24q3O",
        "outputId": "e6587385-43eb-41d1-9173-b397db765ad6"
      },
      "source": [
        "!ls"
      ],
      "execution_count": 3,
      "outputs": [
        {
          "output_type": "stream",
          "text": [
            "bat.png\t\t     dlib_face_recognition_resnet_model_v1.dat\n",
            "cam.mp4\t\t     out.jpg\n",
            "detective_cigar.png  shape_predictor_68_face_landmarks.dat\n",
            "det_hat.png\n"
          ],
          "name": "stdout"
        }
      ]
    },
    {
      "cell_type": "code",
      "metadata": {
        "id": "gFYZdNVy4GN8"
      },
      "source": [
        "#importing the required libraries\n",
        "import dlib\n",
        "import cv2"
      ],
      "execution_count": 4,
      "outputs": []
    },
    {
      "cell_type": "code",
      "metadata": {
        "id": "TEVJxcem6lkd"
      },
      "source": [
        "\n",
        "def mask(frame, landmarks):\n",
        "    imgBatman = cv2.imread(\"bat.png\", -1)\n",
        "    orig_mask = imgBatman[:, :, 3]\n",
        "    orig_mask_inv = cv2.bitwise_not(orig_mask)\n",
        "    imgBatman = imgBatman[:, :, 0:3]\n",
        "    origBatmanHeight, origBatWidth = imgBatman.shape[:2]\n",
        "\n",
        "    BatmanWidth = abs(3 * (landmarks.part(37).x - landmarks.part(44).x))\n",
        "    BatmanHeight = int(BatmanWidth * origBatmanHeight / origBatWidth)\n",
        "    Batman = cv2.resize(imgBatman, (BatmanWidth, BatmanHeight), interpolation=cv2.INTER_AREA)\n",
        "    mask = cv2.resize(orig_mask, (BatmanWidth, BatmanHeight), interpolation=cv2.INTER_AREA)\n",
        "    mask_inv = cv2.resize(orig_mask_inv, (BatmanWidth, BatmanHeight), interpolation=cv2.INTER_AREA)\n",
        "    y1 = int(landmarks.part(27).y - (BatmanHeight / 2)) - 20\n",
        "    y2 = int(y1 + BatmanHeight)\n",
        "    x1 = int(landmarks.part(27).x - (BatmanWidth / 2))\n",
        "    x2 = int(x1 + BatmanWidth)\n",
        "    roi = frame[y1:y2, x1:x2]\n",
        "    roi_bg = cv2.bitwise_and(roi, roi, mask=mask_inv)\n",
        "    roi_fg = cv2.bitwise_and(Batman, Batman, mask=mask)\n",
        "    frame[y1:y2, x1:x2] = cv2.add(roi_bg, roi_fg)\n",
        "\n",
        "    return frame\n"
      ],
      "execution_count": 5,
      "outputs": []
    },
    {
      "cell_type": "code",
      "metadata": {
        "id": "ZGFYok3p6rZN"
      },
      "source": [
        "def filter():\n",
        "    \"\"\"\n",
        "    This function consists main logic of the program in which\n",
        "    1. detect faces\n",
        "    2. from 68 landmark points we detect eyes\n",
        "    3. Applies Filter\n",
        "    :return: None\n",
        "    \"\"\"\n",
        "\n",
        "    # detector for detecting the face in the image\n",
        "    detector = dlib.get_frontal_face_detector()\n",
        "    # predictor of locating 68 landmark points from the face by using a pretrained model\n",
        "    predictor = dlib.shape_predictor('shape_predictor_68_face_landmarks.dat')\n",
        "\n",
        "    cap = cv2.VideoCapture(0)\n",
        "    while True:\n",
        "        ret, frame = cap.read()\n",
        "        if ret:\n",
        "            frameGray = cv2.cvtColor(frame, cv2.COLOR_BGR2GRAY)\n",
        "            # detecting faces in the frame\n",
        "            faces = detector(frameGray)\n",
        "\n",
        "            # if faces are present then locating the landmark points\n",
        "            for face in faces:\n",
        "                landmarks = predictor(frameGray, face)\n",
        "\n",
        "                frame = mask(frame, landmarks)\n",
        "\n",
        "            # for showing frames on the window named Detector\n",
        "            cv2.imshow('Detector', frame)\n",
        "\n",
        "            # for quiting the program press 'ESC'\n",
        "            if cv2.waitKey(1) & 0xFF == 27:\n",
        "                break\n",
        "        else:\n",
        "            break\n",
        "\n",
        "    # releasing all the frames we captured and destroying the windows\n",
        "    cap.release()\n",
        "    cv2.destroyAllWindows()\n",
        "\n",
        "\n",
        "if __name__ == '__main__':\n",
        "    filter()"
      ],
      "execution_count": 6,
      "outputs": []
    }
  ]
}